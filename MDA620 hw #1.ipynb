{
 "cells": [
  {
   "cell_type": "code",
   "execution_count": 38,
   "id": "c435176c",
   "metadata": {},
   "outputs": [],
   "source": [
    "import numpy as np\n",
    "np.array?"
   ]
  },
  {
   "cell_type": "code",
   "execution_count": 34,
   "id": "6c17b6c3",
   "metadata": {},
   "outputs": [],
   "source": [
    "import fib"
   ]
  },
  {
   "cell_type": "code",
   "execution_count": 35,
   "id": "aa742346",
   "metadata": {
    "scrolled": true
   },
   "outputs": [
    {
     "name": "stdout",
     "output_type": "stream",
     "text": [
      "Help on function fib in module fib:\n",
      "\n",
      "fib(n)\n",
      "    Returns n'th Fibonacci number.\n",
      "\n"
     ]
    }
   ],
   "source": [
    "help(fib.fib)"
   ]
  },
  {
   "cell_type": "code",
   "execution_count": 42,
   "id": "149c8a1d",
   "metadata": {},
   "outputs": [
    {
     "data": {
      "text/plain": [
       "144"
      ]
     },
     "execution_count": 42,
     "metadata": {},
     "output_type": "execute_result"
    }
   ],
   "source": [
    "fib.fib(12) # sum of previous two terms, 55 + 89 = 144 "
   ]
  },
  {
   "cell_type": "code",
   "execution_count": 43,
   "id": "5b57f4dc",
   "metadata": {},
   "outputs": [
    {
     "name": "stdout",
     "output_type": "stream",
     "text": [
      "x lies between 2.5 and 4\n"
     ]
    }
   ],
   "source": [
    "x = 3\n",
    "if 2.5 < x < 4:\n",
    "    print('x lies between 2.5 and 4')\n",
    "elif x > 1:\n",
    "    print('x = ' + str(x))\n",
    "    print('x is greater than 1')"
   ]
  },
  {
   "cell_type": "code",
   "execution_count": 55,
   "id": "bd9d8151",
   "metadata": {},
   "outputs": [
    {
     "name": "stdout",
     "output_type": "stream",
     "text": [
      "x is even\n"
     ]
    }
   ],
   "source": [
    "x = 22 \n",
    "if x % 2:\n",
    "    print('x is odd')\n",
    "else:\n",
    "    print('x is even')"
   ]
  }
 ],
 "metadata": {
  "kernelspec": {
   "display_name": "Python 3 (ipykernel)",
   "language": "python",
   "name": "python3"
  },
  "language_info": {
   "codemirror_mode": {
    "name": "ipython",
    "version": 3
   },
   "file_extension": ".py",
   "mimetype": "text/x-python",
   "name": "python",
   "nbconvert_exporter": "python",
   "pygments_lexer": "ipython3",
   "version": "3.9.12"
  }
 },
 "nbformat": 4,
 "nbformat_minor": 5
}
